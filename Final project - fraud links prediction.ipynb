{
 "cells": [
  {
   "cell_type": "code",
   "execution_count": 1,
   "id": "533638b9",
   "metadata": {},
   "outputs": [],
   "source": [
    "# importing libraries\n",
    "import numpy as np\n",
    "import pandas as pd\n",
    "import matplotlib.pyplot as plt\n",
    "%matplotlib inline\n",
    "import seaborn as sns\n",
    "import warnings\n",
    "warnings.filterwarnings(\"ignore\")"
   ]
  },
  {
   "cell_type": "code",
   "execution_count": 2,
   "id": "bf302e5a",
   "metadata": {},
   "outputs": [],
   "source": [
    "url_data = pd.read_csv(\"url_dataset.csv\")"
   ]
  },
  {
   "cell_type": "code",
   "execution_count": 3,
   "id": "222e20fc",
   "metadata": {},
   "outputs": [
    {
     "data": {
      "text/html": [
       "<div>\n",
       "<style scoped>\n",
       "    .dataframe tbody tr th:only-of-type {\n",
       "        vertical-align: middle;\n",
       "    }\n",
       "\n",
       "    .dataframe tbody tr th {\n",
       "        vertical-align: top;\n",
       "    }\n",
       "\n",
       "    .dataframe thead th {\n",
       "        text-align: right;\n",
       "    }\n",
       "</style>\n",
       "<table border=\"1\" class=\"dataframe\">\n",
       "  <thead>\n",
       "    <tr style=\"text-align: right;\">\n",
       "      <th></th>\n",
       "      <th>Unnamed: 0</th>\n",
       "      <th>url</th>\n",
       "      <th>label</th>\n",
       "      <th>result</th>\n",
       "    </tr>\n",
       "  </thead>\n",
       "  <tbody>\n",
       "    <tr>\n",
       "      <th>0</th>\n",
       "      <td>0</td>\n",
       "      <td>https://www.google.com</td>\n",
       "      <td>benign</td>\n",
       "      <td>0</td>\n",
       "    </tr>\n",
       "    <tr>\n",
       "      <th>1</th>\n",
       "      <td>1</td>\n",
       "      <td>https://www.youtube.com</td>\n",
       "      <td>benign</td>\n",
       "      <td>0</td>\n",
       "    </tr>\n",
       "    <tr>\n",
       "      <th>2</th>\n",
       "      <td>2</td>\n",
       "      <td>https://www.facebook.com</td>\n",
       "      <td>benign</td>\n",
       "      <td>0</td>\n",
       "    </tr>\n",
       "    <tr>\n",
       "      <th>3</th>\n",
       "      <td>3</td>\n",
       "      <td>https://www.baidu.com</td>\n",
       "      <td>benign</td>\n",
       "      <td>0</td>\n",
       "    </tr>\n",
       "    <tr>\n",
       "      <th>4</th>\n",
       "      <td>4</td>\n",
       "      <td>https://www.wikipedia.org</td>\n",
       "      <td>benign</td>\n",
       "      <td>0</td>\n",
       "    </tr>\n",
       "    <tr>\n",
       "      <th>...</th>\n",
       "      <td>...</td>\n",
       "      <td>...</td>\n",
       "      <td>...</td>\n",
       "      <td>...</td>\n",
       "    </tr>\n",
       "    <tr>\n",
       "      <th>450171</th>\n",
       "      <td>450171</td>\n",
       "      <td>http://ecct-it.com/docmmmnn/aptgd/index.php</td>\n",
       "      <td>malicious</td>\n",
       "      <td>1</td>\n",
       "    </tr>\n",
       "    <tr>\n",
       "      <th>450172</th>\n",
       "      <td>450172</td>\n",
       "      <td>http://faboleena.com/js/infortis/jquery/plugin...</td>\n",
       "      <td>malicious</td>\n",
       "      <td>1</td>\n",
       "    </tr>\n",
       "    <tr>\n",
       "      <th>450173</th>\n",
       "      <td>450173</td>\n",
       "      <td>http://faboleena.com/js/infortis/jquery/plugin...</td>\n",
       "      <td>malicious</td>\n",
       "      <td>1</td>\n",
       "    </tr>\n",
       "    <tr>\n",
       "      <th>450174</th>\n",
       "      <td>450174</td>\n",
       "      <td>http://atualizapj.com/</td>\n",
       "      <td>malicious</td>\n",
       "      <td>1</td>\n",
       "    </tr>\n",
       "    <tr>\n",
       "      <th>450175</th>\n",
       "      <td>450175</td>\n",
       "      <td>http://writeassociate.com/test/Portal/inicio/I...</td>\n",
       "      <td>malicious</td>\n",
       "      <td>1</td>\n",
       "    </tr>\n",
       "  </tbody>\n",
       "</table>\n",
       "<p>450176 rows × 4 columns</p>\n",
       "</div>"
      ],
      "text/plain": [
       "        Unnamed: 0                                                url  \\\n",
       "0                0                             https://www.google.com   \n",
       "1                1                            https://www.youtube.com   \n",
       "2                2                           https://www.facebook.com   \n",
       "3                3                              https://www.baidu.com   \n",
       "4                4                          https://www.wikipedia.org   \n",
       "...            ...                                                ...   \n",
       "450171      450171        http://ecct-it.com/docmmmnn/aptgd/index.php   \n",
       "450172      450172  http://faboleena.com/js/infortis/jquery/plugin...   \n",
       "450173      450173  http://faboleena.com/js/infortis/jquery/plugin...   \n",
       "450174      450174                             http://atualizapj.com/   \n",
       "450175      450175  http://writeassociate.com/test/Portal/inicio/I...   \n",
       "\n",
       "            label  result  \n",
       "0          benign       0  \n",
       "1          benign       0  \n",
       "2          benign       0  \n",
       "3          benign       0  \n",
       "4          benign       0  \n",
       "...           ...     ...  \n",
       "450171  malicious       1  \n",
       "450172  malicious       1  \n",
       "450173  malicious       1  \n",
       "450174  malicious       1  \n",
       "450175  malicious       1  \n",
       "\n",
       "[450176 rows x 4 columns]"
      ]
     },
     "execution_count": 3,
     "metadata": {},
     "output_type": "execute_result"
    }
   ],
   "source": [
    "url_data"
   ]
  },
  {
   "cell_type": "code",
   "execution_count": 4,
   "id": "7998554c",
   "metadata": {},
   "outputs": [],
   "source": [
    "# removing unnamed column\n",
    "url_data = url_data.drop(\"Unnamed: 0\" , axis = 1)"
   ]
  },
  {
   "cell_type": "code",
   "execution_count": 5,
   "id": "2662416a",
   "metadata": {},
   "outputs": [
    {
     "data": {
      "text/html": [
       "<div>\n",
       "<style scoped>\n",
       "    .dataframe tbody tr th:only-of-type {\n",
       "        vertical-align: middle;\n",
       "    }\n",
       "\n",
       "    .dataframe tbody tr th {\n",
       "        vertical-align: top;\n",
       "    }\n",
       "\n",
       "    .dataframe thead th {\n",
       "        text-align: right;\n",
       "    }\n",
       "</style>\n",
       "<table border=\"1\" class=\"dataframe\">\n",
       "  <thead>\n",
       "    <tr style=\"text-align: right;\">\n",
       "      <th></th>\n",
       "      <th>url</th>\n",
       "      <th>label</th>\n",
       "      <th>result</th>\n",
       "    </tr>\n",
       "  </thead>\n",
       "  <tbody>\n",
       "    <tr>\n",
       "      <th>0</th>\n",
       "      <td>https://www.google.com</td>\n",
       "      <td>benign</td>\n",
       "      <td>0</td>\n",
       "    </tr>\n",
       "    <tr>\n",
       "      <th>1</th>\n",
       "      <td>https://www.youtube.com</td>\n",
       "      <td>benign</td>\n",
       "      <td>0</td>\n",
       "    </tr>\n",
       "    <tr>\n",
       "      <th>2</th>\n",
       "      <td>https://www.facebook.com</td>\n",
       "      <td>benign</td>\n",
       "      <td>0</td>\n",
       "    </tr>\n",
       "    <tr>\n",
       "      <th>3</th>\n",
       "      <td>https://www.baidu.com</td>\n",
       "      <td>benign</td>\n",
       "      <td>0</td>\n",
       "    </tr>\n",
       "    <tr>\n",
       "      <th>4</th>\n",
       "      <td>https://www.wikipedia.org</td>\n",
       "      <td>benign</td>\n",
       "      <td>0</td>\n",
       "    </tr>\n",
       "  </tbody>\n",
       "</table>\n",
       "</div>"
      ],
      "text/plain": [
       "                         url   label  result\n",
       "0     https://www.google.com  benign       0\n",
       "1    https://www.youtube.com  benign       0\n",
       "2   https://www.facebook.com  benign       0\n",
       "3      https://www.baidu.com  benign       0\n",
       "4  https://www.wikipedia.org  benign       0"
      ]
     },
     "execution_count": 5,
     "metadata": {},
     "output_type": "execute_result"
    }
   ],
   "source": [
    "url_data.head()"
   ]
  },
  {
   "cell_type": "code",
   "execution_count": 6,
   "id": "2e4ae387",
   "metadata": {},
   "outputs": [
    {
     "data": {
      "text/plain": [
       "(450176, 3)"
      ]
     },
     "execution_count": 6,
     "metadata": {},
     "output_type": "execute_result"
    }
   ],
   "source": [
    "# checking number of rows and columns\n",
    "\n",
    "url_data.shape"
   ]
  },
  {
   "cell_type": "code",
   "execution_count": 7,
   "id": "e7b1503d",
   "metadata": {},
   "outputs": [
    {
     "name": "stdout",
     "output_type": "stream",
     "text": [
      "<class 'pandas.core.frame.DataFrame'>\n",
      "RangeIndex: 450176 entries, 0 to 450175\n",
      "Data columns (total 3 columns):\n",
      " #   Column  Non-Null Count   Dtype \n",
      "---  ------  --------------   ----- \n",
      " 0   url     450176 non-null  object\n",
      " 1   label   450176 non-null  object\n",
      " 2   result  450176 non-null  int64 \n",
      "dtypes: int64(1), object(2)\n",
      "memory usage: 10.3+ MB\n"
     ]
    }
   ],
   "source": [
    "url_data.info()"
   ]
  },
  {
   "cell_type": "code",
   "execution_count": 8,
   "id": "c5814627",
   "metadata": {},
   "outputs": [
    {
     "data": {
      "text/plain": [
       "url       0\n",
       "label     0\n",
       "result    0\n",
       "dtype: int64"
      ]
     },
     "execution_count": 8,
     "metadata": {},
     "output_type": "execute_result"
    }
   ],
   "source": [
    "# checking missing values\n",
    "url_data.isnull().sum()"
   ]
  },
  {
   "cell_type": "code",
   "execution_count": 9,
   "id": "21e5adac",
   "metadata": {},
   "outputs": [],
   "source": [
    "import os"
   ]
  },
  {
   "cell_type": "markdown",
   "id": "bc1bd187",
   "metadata": {},
   "source": [
    "### The URL parsing functions focus on splitting a URL string into its components, or on combining URL components into a URL string."
   ]
  },
  {
   "cell_type": "code",
   "execution_count": 10,
   "id": "9137d8fd",
   "metadata": {},
   "outputs": [],
   "source": [
    "# calculating length features\n"
   ]
  },
  {
   "cell_type": "code",
   "execution_count": 11,
   "id": "944dc91b",
   "metadata": {},
   "outputs": [],
   "source": [
    "# length of url\n",
    "\n",
    "url_data[\"url_length\"] = url_data[\"url\"].apply(lambda i : len(str(i)))"
   ]
  },
  {
   "cell_type": "code",
   "execution_count": 12,
   "id": "a20eb0a2",
   "metadata": {},
   "outputs": [],
   "source": [
    "# length of hostname\n",
    "# importing dependencies\n",
    "from urllib.parse import urlparse\n",
    "import os.path\n",
    "\n",
    "url_data[\"hostname_length\"] = url_data[\"url\"].apply(lambda i : len(urlparse(i).netloc))"
   ]
  },
  {
   "cell_type": "code",
   "execution_count": 13,
   "id": "0236d045",
   "metadata": {},
   "outputs": [],
   "source": [
    "# length of path\n",
    "\n",
    "url_data[\"path_length\"] = url_data[\"url\"].apply(lambda i : len(urlparse(i).path))"
   ]
  },
  {
   "cell_type": "code",
   "execution_count": 14,
   "id": "ee34715a",
   "metadata": {},
   "outputs": [],
   "source": [
    "# length of first directory\n",
    "\n",
    "def fd_length(url) :\n",
    "    urlpath = urlparse(url).path\n",
    "    try :\n",
    "        return len(urlpath.split(\"/\")[1])\n",
    "    except :\n",
    "        return 0\n",
    "url_data[\"fd_length\"] = url_data[\"url\"].apply(lambda i : fd_length(i))"
   ]
  },
  {
   "cell_type": "code",
   "execution_count": 15,
   "id": "85036150",
   "metadata": {},
   "outputs": [],
   "source": [
    "# length of top level domain\n",
    "\n",
    "# !pip install tld"
   ]
  },
  {
   "cell_type": "code",
   "execution_count": 16,
   "id": "fabf7391",
   "metadata": {},
   "outputs": [],
   "source": [
    "from tld import get_tld"
   ]
  },
  {
   "cell_type": "code",
   "execution_count": 17,
   "id": "ad3ad19f",
   "metadata": {},
   "outputs": [],
   "source": [
    "url_data[\"tld\"] = url_data[\"url\"].apply(lambda i : get_tld(i , fail_silently = True))"
   ]
  },
  {
   "cell_type": "code",
   "execution_count": 18,
   "id": "50f499e8",
   "metadata": {},
   "outputs": [],
   "source": [
    "def tld_length(tld) :\n",
    "    try :\n",
    "        return len(tld)\n",
    "    except :\n",
    "        return -1\n",
    "url_data[\"tld_length\"] = url_data[\"tld\"].apply(lambda i : tld_length(i)) "
   ]
  },
  {
   "cell_type": "code",
   "execution_count": 19,
   "id": "a4e53ae5",
   "metadata": {},
   "outputs": [
    {
     "data": {
      "text/html": [
       "<div>\n",
       "<style scoped>\n",
       "    .dataframe tbody tr th:only-of-type {\n",
       "        vertical-align: middle;\n",
       "    }\n",
       "\n",
       "    .dataframe tbody tr th {\n",
       "        vertical-align: top;\n",
       "    }\n",
       "\n",
       "    .dataframe thead th {\n",
       "        text-align: right;\n",
       "    }\n",
       "</style>\n",
       "<table border=\"1\" class=\"dataframe\">\n",
       "  <thead>\n",
       "    <tr style=\"text-align: right;\">\n",
       "      <th></th>\n",
       "      <th>url</th>\n",
       "      <th>label</th>\n",
       "      <th>result</th>\n",
       "      <th>url_length</th>\n",
       "      <th>hostname_length</th>\n",
       "      <th>path_length</th>\n",
       "      <th>fd_length</th>\n",
       "      <th>tld</th>\n",
       "      <th>tld_length</th>\n",
       "    </tr>\n",
       "  </thead>\n",
       "  <tbody>\n",
       "    <tr>\n",
       "      <th>0</th>\n",
       "      <td>https://www.google.com</td>\n",
       "      <td>benign</td>\n",
       "      <td>0</td>\n",
       "      <td>22</td>\n",
       "      <td>14</td>\n",
       "      <td>0</td>\n",
       "      <td>0</td>\n",
       "      <td>com</td>\n",
       "      <td>3</td>\n",
       "    </tr>\n",
       "    <tr>\n",
       "      <th>1</th>\n",
       "      <td>https://www.youtube.com</td>\n",
       "      <td>benign</td>\n",
       "      <td>0</td>\n",
       "      <td>23</td>\n",
       "      <td>15</td>\n",
       "      <td>0</td>\n",
       "      <td>0</td>\n",
       "      <td>com</td>\n",
       "      <td>3</td>\n",
       "    </tr>\n",
       "    <tr>\n",
       "      <th>2</th>\n",
       "      <td>https://www.facebook.com</td>\n",
       "      <td>benign</td>\n",
       "      <td>0</td>\n",
       "      <td>24</td>\n",
       "      <td>16</td>\n",
       "      <td>0</td>\n",
       "      <td>0</td>\n",
       "      <td>com</td>\n",
       "      <td>3</td>\n",
       "    </tr>\n",
       "    <tr>\n",
       "      <th>3</th>\n",
       "      <td>https://www.baidu.com</td>\n",
       "      <td>benign</td>\n",
       "      <td>0</td>\n",
       "      <td>21</td>\n",
       "      <td>13</td>\n",
       "      <td>0</td>\n",
       "      <td>0</td>\n",
       "      <td>com</td>\n",
       "      <td>3</td>\n",
       "    </tr>\n",
       "    <tr>\n",
       "      <th>4</th>\n",
       "      <td>https://www.wikipedia.org</td>\n",
       "      <td>benign</td>\n",
       "      <td>0</td>\n",
       "      <td>25</td>\n",
       "      <td>17</td>\n",
       "      <td>0</td>\n",
       "      <td>0</td>\n",
       "      <td>org</td>\n",
       "      <td>3</td>\n",
       "    </tr>\n",
       "  </tbody>\n",
       "</table>\n",
       "</div>"
      ],
      "text/plain": [
       "                         url   label  result  url_length  hostname_length  \\\n",
       "0     https://www.google.com  benign       0          22               14   \n",
       "1    https://www.youtube.com  benign       0          23               15   \n",
       "2   https://www.facebook.com  benign       0          24               16   \n",
       "3      https://www.baidu.com  benign       0          21               13   \n",
       "4  https://www.wikipedia.org  benign       0          25               17   \n",
       "\n",
       "   path_length  fd_length  tld  tld_length  \n",
       "0            0          0  com           3  \n",
       "1            0          0  com           3  \n",
       "2            0          0  com           3  \n",
       "3            0          0  com           3  \n",
       "4            0          0  org           3  "
      ]
     },
     "execution_count": 19,
     "metadata": {},
     "output_type": "execute_result"
    }
   ],
   "source": [
    "url_data.head()"
   ]
  },
  {
   "cell_type": "code",
   "execution_count": 20,
   "id": "7adacf01",
   "metadata": {},
   "outputs": [],
   "source": [
    "# calculating count features\n",
    "\n",
    "# counting (-) symbol\n",
    "\n",
    "url_data[\"count-\"] = url_data[\"url\"].apply(lambda i : i.count(\"-\"))"
   ]
  },
  {
   "cell_type": "code",
   "execution_count": 21,
   "id": "148a3ae2",
   "metadata": {},
   "outputs": [],
   "source": [
    "# counting (@) symbol\n",
    "\n",
    "url_data[\"count@\"] = url_data[\"url\"].apply(lambda i : i.count(\"@\"))"
   ]
  },
  {
   "cell_type": "code",
   "execution_count": 22,
   "id": "c778e2fc",
   "metadata": {},
   "outputs": [],
   "source": [
    "# counting (?) symbol\n",
    "\n",
    "url_data[\"count?\"] = url_data[\"url\"].apply(lambda i : i.count(\"?\"))"
   ]
  },
  {
   "cell_type": "code",
   "execution_count": 23,
   "id": "6a58d261",
   "metadata": {},
   "outputs": [],
   "source": [
    "# counting (%) symbol\n",
    "\n",
    "url_data[\"count%\"] = url_data[\"url\"].apply(lambda i : i.count(\"%\"))"
   ]
  },
  {
   "cell_type": "code",
   "execution_count": 24,
   "id": "2daffa41",
   "metadata": {},
   "outputs": [],
   "source": [
    "# counting (.) symbol\n",
    "\n",
    "url_data[\"count.\"] = url_data[\"url\"].apply(lambda i : i.count(\".\"))"
   ]
  },
  {
   "cell_type": "code",
   "execution_count": 25,
   "id": "97b3d0bf",
   "metadata": {},
   "outputs": [],
   "source": [
    "# counting (=) symbol\n",
    "\n",
    "url_data[\"count=\"] = url_data[\"url\"].apply(lambda i : i.count(\"=\"))"
   ]
  },
  {
   "cell_type": "code",
   "execution_count": 26,
   "id": "9be9e9f2",
   "metadata": {},
   "outputs": [],
   "source": [
    "# counting http\n",
    "\n",
    "url_data[\"count-http\"] = url_data[\"url\"].apply(lambda i : i.count(\"http\"))"
   ]
  },
  {
   "cell_type": "code",
   "execution_count": 27,
   "id": "032871b2",
   "metadata": {},
   "outputs": [],
   "source": [
    "# counting https\n",
    "\n",
    "url_data[\"count-https\"] = url_data[\"url\"].apply(lambda i : i.count(\"https\"))"
   ]
  },
  {
   "cell_type": "code",
   "execution_count": 28,
   "id": "8e141166",
   "metadata": {},
   "outputs": [],
   "source": [
    "# counting www\n",
    "\n",
    "url_data[\"count-www\"] = url_data[\"url\"].apply(lambda i : i.count(\"www\"))"
   ]
  },
  {
   "cell_type": "code",
   "execution_count": 29,
   "id": "eb934b69",
   "metadata": {},
   "outputs": [],
   "source": [
    "def digit_count(url) :\n",
    "    digits = 0\n",
    "    for i in url :\n",
    "        if i.isnumeric() :\n",
    "            digits = digits + 1\n",
    "    return digits\n",
    "\n",
    "url_data[\"count-digits\"] = url_data[\"url\"].apply(lambda i : digit_count(i))"
   ]
  },
  {
   "cell_type": "code",
   "execution_count": 30,
   "id": "5d7071e7",
   "metadata": {},
   "outputs": [],
   "source": [
    "def letter_count(url) :\n",
    "    letters = 0\n",
    "    for i in url :\n",
    "        if i.isalpha() :\n",
    "            letters = letters + 1\n",
    "    return letters\n",
    "\n",
    "url_data[\"count-letters\"] = url_data[\"url\"].apply(lambda i : letter_count(i))"
   ]
  },
  {
   "cell_type": "code",
   "execution_count": 31,
   "id": "e0a5766e",
   "metadata": {},
   "outputs": [],
   "source": [
    "# checking for directories\n",
    "\n",
    "def no_of_dir(url) :\n",
    "    urldir = urlparse(url).path\n",
    "    return urldir.count(\"/\")\n",
    "\n",
    "url_data[\"count_dir\"] = url_data[\"url\"].apply(lambda i : no_of_dir(i))"
   ]
  },
  {
   "cell_type": "code",
   "execution_count": 32,
   "id": "876c92c8",
   "metadata": {},
   "outputs": [
    {
     "data": {
      "text/html": [
       "<div>\n",
       "<style scoped>\n",
       "    .dataframe tbody tr th:only-of-type {\n",
       "        vertical-align: middle;\n",
       "    }\n",
       "\n",
       "    .dataframe tbody tr th {\n",
       "        vertical-align: top;\n",
       "    }\n",
       "\n",
       "    .dataframe thead th {\n",
       "        text-align: right;\n",
       "    }\n",
       "</style>\n",
       "<table border=\"1\" class=\"dataframe\">\n",
       "  <thead>\n",
       "    <tr style=\"text-align: right;\">\n",
       "      <th></th>\n",
       "      <th>url</th>\n",
       "      <th>label</th>\n",
       "      <th>result</th>\n",
       "      <th>url_length</th>\n",
       "      <th>hostname_length</th>\n",
       "      <th>path_length</th>\n",
       "      <th>fd_length</th>\n",
       "      <th>tld</th>\n",
       "      <th>tld_length</th>\n",
       "      <th>count-</th>\n",
       "      <th>...</th>\n",
       "      <th>count?</th>\n",
       "      <th>count%</th>\n",
       "      <th>count.</th>\n",
       "      <th>count=</th>\n",
       "      <th>count-http</th>\n",
       "      <th>count-https</th>\n",
       "      <th>count-www</th>\n",
       "      <th>count-digits</th>\n",
       "      <th>count-letters</th>\n",
       "      <th>count_dir</th>\n",
       "    </tr>\n",
       "  </thead>\n",
       "  <tbody>\n",
       "    <tr>\n",
       "      <th>0</th>\n",
       "      <td>https://www.google.com</td>\n",
       "      <td>benign</td>\n",
       "      <td>0</td>\n",
       "      <td>22</td>\n",
       "      <td>14</td>\n",
       "      <td>0</td>\n",
       "      <td>0</td>\n",
       "      <td>com</td>\n",
       "      <td>3</td>\n",
       "      <td>0</td>\n",
       "      <td>...</td>\n",
       "      <td>0</td>\n",
       "      <td>0</td>\n",
       "      <td>2</td>\n",
       "      <td>0</td>\n",
       "      <td>1</td>\n",
       "      <td>1</td>\n",
       "      <td>1</td>\n",
       "      <td>0</td>\n",
       "      <td>17</td>\n",
       "      <td>0</td>\n",
       "    </tr>\n",
       "    <tr>\n",
       "      <th>1</th>\n",
       "      <td>https://www.youtube.com</td>\n",
       "      <td>benign</td>\n",
       "      <td>0</td>\n",
       "      <td>23</td>\n",
       "      <td>15</td>\n",
       "      <td>0</td>\n",
       "      <td>0</td>\n",
       "      <td>com</td>\n",
       "      <td>3</td>\n",
       "      <td>0</td>\n",
       "      <td>...</td>\n",
       "      <td>0</td>\n",
       "      <td>0</td>\n",
       "      <td>2</td>\n",
       "      <td>0</td>\n",
       "      <td>1</td>\n",
       "      <td>1</td>\n",
       "      <td>1</td>\n",
       "      <td>0</td>\n",
       "      <td>18</td>\n",
       "      <td>0</td>\n",
       "    </tr>\n",
       "    <tr>\n",
       "      <th>2</th>\n",
       "      <td>https://www.facebook.com</td>\n",
       "      <td>benign</td>\n",
       "      <td>0</td>\n",
       "      <td>24</td>\n",
       "      <td>16</td>\n",
       "      <td>0</td>\n",
       "      <td>0</td>\n",
       "      <td>com</td>\n",
       "      <td>3</td>\n",
       "      <td>0</td>\n",
       "      <td>...</td>\n",
       "      <td>0</td>\n",
       "      <td>0</td>\n",
       "      <td>2</td>\n",
       "      <td>0</td>\n",
       "      <td>1</td>\n",
       "      <td>1</td>\n",
       "      <td>1</td>\n",
       "      <td>0</td>\n",
       "      <td>19</td>\n",
       "      <td>0</td>\n",
       "    </tr>\n",
       "    <tr>\n",
       "      <th>3</th>\n",
       "      <td>https://www.baidu.com</td>\n",
       "      <td>benign</td>\n",
       "      <td>0</td>\n",
       "      <td>21</td>\n",
       "      <td>13</td>\n",
       "      <td>0</td>\n",
       "      <td>0</td>\n",
       "      <td>com</td>\n",
       "      <td>3</td>\n",
       "      <td>0</td>\n",
       "      <td>...</td>\n",
       "      <td>0</td>\n",
       "      <td>0</td>\n",
       "      <td>2</td>\n",
       "      <td>0</td>\n",
       "      <td>1</td>\n",
       "      <td>1</td>\n",
       "      <td>1</td>\n",
       "      <td>0</td>\n",
       "      <td>16</td>\n",
       "      <td>0</td>\n",
       "    </tr>\n",
       "    <tr>\n",
       "      <th>4</th>\n",
       "      <td>https://www.wikipedia.org</td>\n",
       "      <td>benign</td>\n",
       "      <td>0</td>\n",
       "      <td>25</td>\n",
       "      <td>17</td>\n",
       "      <td>0</td>\n",
       "      <td>0</td>\n",
       "      <td>org</td>\n",
       "      <td>3</td>\n",
       "      <td>0</td>\n",
       "      <td>...</td>\n",
       "      <td>0</td>\n",
       "      <td>0</td>\n",
       "      <td>2</td>\n",
       "      <td>0</td>\n",
       "      <td>1</td>\n",
       "      <td>1</td>\n",
       "      <td>1</td>\n",
       "      <td>0</td>\n",
       "      <td>20</td>\n",
       "      <td>0</td>\n",
       "    </tr>\n",
       "  </tbody>\n",
       "</table>\n",
       "<p>5 rows × 21 columns</p>\n",
       "</div>"
      ],
      "text/plain": [
       "                         url   label  result  url_length  hostname_length  \\\n",
       "0     https://www.google.com  benign       0          22               14   \n",
       "1    https://www.youtube.com  benign       0          23               15   \n",
       "2   https://www.facebook.com  benign       0          24               16   \n",
       "3      https://www.baidu.com  benign       0          21               13   \n",
       "4  https://www.wikipedia.org  benign       0          25               17   \n",
       "\n",
       "   path_length  fd_length  tld  tld_length  count-  ...  count?  count%  \\\n",
       "0            0          0  com           3       0  ...       0       0   \n",
       "1            0          0  com           3       0  ...       0       0   \n",
       "2            0          0  com           3       0  ...       0       0   \n",
       "3            0          0  com           3       0  ...       0       0   \n",
       "4            0          0  org           3       0  ...       0       0   \n",
       "\n",
       "   count.  count=  count-http  count-https  count-www  count-digits  \\\n",
       "0       2       0           1            1          1             0   \n",
       "1       2       0           1            1          1             0   \n",
       "2       2       0           1            1          1             0   \n",
       "3       2       0           1            1          1             0   \n",
       "4       2       0           1            1          1             0   \n",
       "\n",
       "   count-letters  count_dir  \n",
       "0             17          0  \n",
       "1             18          0  \n",
       "2             19          0  \n",
       "3             16          0  \n",
       "4             20          0  \n",
       "\n",
       "[5 rows x 21 columns]"
      ]
     },
     "execution_count": 32,
     "metadata": {},
     "output_type": "execute_result"
    }
   ],
   "source": [
    "url_data.head()"
   ]
  },
  {
   "cell_type": "code",
   "execution_count": 33,
   "id": "03d4ebc2",
   "metadata": {},
   "outputs": [],
   "source": [
    " # checking for use of IP in domain\n",
    "    \n",
    "import re"
   ]
  },
  {
   "cell_type": "code",
   "execution_count": 34,
   "id": "aa55b43b",
   "metadata": {},
   "outputs": [],
   "source": [
    "def having_ip_address(url) :\n",
    "    match = re.search('(([01]?\\\\d\\\\d?|2[0-4]\\\\d|25[0-5])\\\\.([01]?\\\\d\\\\d?|2[0-4]\\\\d|25[0-5])\\\\.([01]?\\\\d\\\\d?|2[0-4]\\\\d|25[0-5])\\\\.'\n",
    "        '([01]?\\\\d\\\\d?|2[0-4]\\\\d|25[0-5])\\\\/)|'  # for checking IPv4 in domain\n",
    "                      \n",
    "        '((0x[0-9a-fA-F]{1,2})\\\\.(0x[0-9a-fA-F]{1,2})\\\\.(0x[0-9a-fA-F]{1,2})\\\\.(0x[0-9a-fA-F]{1,2})\\\\/)' # for checking IPv4 in hexadecimal\n",
    "    \n",
    "        '(?:[a-fA-F0-9]{1,4}:){7}[a-fA-F0-9]{1,4}', url)  # for checking IPv6 in domain\n",
    "        \n",
    "    if match:\n",
    "        return -1\n",
    "    else:\n",
    "        return 1\n",
    "    \n",
    "url_data['use_of_ip'] = url_data['url'].apply(lambda i: having_ip_address(i))"
   ]
  },
  {
   "cell_type": "code",
   "execution_count": 35,
   "id": "340b3379",
   "metadata": {},
   "outputs": [
    {
     "data": {
      "text/html": [
       "<div>\n",
       "<style scoped>\n",
       "    .dataframe tbody tr th:only-of-type {\n",
       "        vertical-align: middle;\n",
       "    }\n",
       "\n",
       "    .dataframe tbody tr th {\n",
       "        vertical-align: top;\n",
       "    }\n",
       "\n",
       "    .dataframe thead th {\n",
       "        text-align: right;\n",
       "    }\n",
       "</style>\n",
       "<table border=\"1\" class=\"dataframe\">\n",
       "  <thead>\n",
       "    <tr style=\"text-align: right;\">\n",
       "      <th></th>\n",
       "      <th>url</th>\n",
       "      <th>label</th>\n",
       "      <th>result</th>\n",
       "      <th>url_length</th>\n",
       "      <th>hostname_length</th>\n",
       "      <th>path_length</th>\n",
       "      <th>fd_length</th>\n",
       "      <th>tld</th>\n",
       "      <th>tld_length</th>\n",
       "      <th>count-</th>\n",
       "      <th>...</th>\n",
       "      <th>count%</th>\n",
       "      <th>count.</th>\n",
       "      <th>count=</th>\n",
       "      <th>count-http</th>\n",
       "      <th>count-https</th>\n",
       "      <th>count-www</th>\n",
       "      <th>count-digits</th>\n",
       "      <th>count-letters</th>\n",
       "      <th>count_dir</th>\n",
       "      <th>use_of_ip</th>\n",
       "    </tr>\n",
       "  </thead>\n",
       "  <tbody>\n",
       "    <tr>\n",
       "      <th>0</th>\n",
       "      <td>https://www.google.com</td>\n",
       "      <td>benign</td>\n",
       "      <td>0</td>\n",
       "      <td>22</td>\n",
       "      <td>14</td>\n",
       "      <td>0</td>\n",
       "      <td>0</td>\n",
       "      <td>com</td>\n",
       "      <td>3</td>\n",
       "      <td>0</td>\n",
       "      <td>...</td>\n",
       "      <td>0</td>\n",
       "      <td>2</td>\n",
       "      <td>0</td>\n",
       "      <td>1</td>\n",
       "      <td>1</td>\n",
       "      <td>1</td>\n",
       "      <td>0</td>\n",
       "      <td>17</td>\n",
       "      <td>0</td>\n",
       "      <td>1</td>\n",
       "    </tr>\n",
       "    <tr>\n",
       "      <th>1</th>\n",
       "      <td>https://www.youtube.com</td>\n",
       "      <td>benign</td>\n",
       "      <td>0</td>\n",
       "      <td>23</td>\n",
       "      <td>15</td>\n",
       "      <td>0</td>\n",
       "      <td>0</td>\n",
       "      <td>com</td>\n",
       "      <td>3</td>\n",
       "      <td>0</td>\n",
       "      <td>...</td>\n",
       "      <td>0</td>\n",
       "      <td>2</td>\n",
       "      <td>0</td>\n",
       "      <td>1</td>\n",
       "      <td>1</td>\n",
       "      <td>1</td>\n",
       "      <td>0</td>\n",
       "      <td>18</td>\n",
       "      <td>0</td>\n",
       "      <td>1</td>\n",
       "    </tr>\n",
       "    <tr>\n",
       "      <th>2</th>\n",
       "      <td>https://www.facebook.com</td>\n",
       "      <td>benign</td>\n",
       "      <td>0</td>\n",
       "      <td>24</td>\n",
       "      <td>16</td>\n",
       "      <td>0</td>\n",
       "      <td>0</td>\n",
       "      <td>com</td>\n",
       "      <td>3</td>\n",
       "      <td>0</td>\n",
       "      <td>...</td>\n",
       "      <td>0</td>\n",
       "      <td>2</td>\n",
       "      <td>0</td>\n",
       "      <td>1</td>\n",
       "      <td>1</td>\n",
       "      <td>1</td>\n",
       "      <td>0</td>\n",
       "      <td>19</td>\n",
       "      <td>0</td>\n",
       "      <td>1</td>\n",
       "    </tr>\n",
       "    <tr>\n",
       "      <th>3</th>\n",
       "      <td>https://www.baidu.com</td>\n",
       "      <td>benign</td>\n",
       "      <td>0</td>\n",
       "      <td>21</td>\n",
       "      <td>13</td>\n",
       "      <td>0</td>\n",
       "      <td>0</td>\n",
       "      <td>com</td>\n",
       "      <td>3</td>\n",
       "      <td>0</td>\n",
       "      <td>...</td>\n",
       "      <td>0</td>\n",
       "      <td>2</td>\n",
       "      <td>0</td>\n",
       "      <td>1</td>\n",
       "      <td>1</td>\n",
       "      <td>1</td>\n",
       "      <td>0</td>\n",
       "      <td>16</td>\n",
       "      <td>0</td>\n",
       "      <td>1</td>\n",
       "    </tr>\n",
       "    <tr>\n",
       "      <th>4</th>\n",
       "      <td>https://www.wikipedia.org</td>\n",
       "      <td>benign</td>\n",
       "      <td>0</td>\n",
       "      <td>25</td>\n",
       "      <td>17</td>\n",
       "      <td>0</td>\n",
       "      <td>0</td>\n",
       "      <td>org</td>\n",
       "      <td>3</td>\n",
       "      <td>0</td>\n",
       "      <td>...</td>\n",
       "      <td>0</td>\n",
       "      <td>2</td>\n",
       "      <td>0</td>\n",
       "      <td>1</td>\n",
       "      <td>1</td>\n",
       "      <td>1</td>\n",
       "      <td>0</td>\n",
       "      <td>20</td>\n",
       "      <td>0</td>\n",
       "      <td>1</td>\n",
       "    </tr>\n",
       "    <tr>\n",
       "      <th>...</th>\n",
       "      <td>...</td>\n",
       "      <td>...</td>\n",
       "      <td>...</td>\n",
       "      <td>...</td>\n",
       "      <td>...</td>\n",
       "      <td>...</td>\n",
       "      <td>...</td>\n",
       "      <td>...</td>\n",
       "      <td>...</td>\n",
       "      <td>...</td>\n",
       "      <td>...</td>\n",
       "      <td>...</td>\n",
       "      <td>...</td>\n",
       "      <td>...</td>\n",
       "      <td>...</td>\n",
       "      <td>...</td>\n",
       "      <td>...</td>\n",
       "      <td>...</td>\n",
       "      <td>...</td>\n",
       "      <td>...</td>\n",
       "      <td>...</td>\n",
       "    </tr>\n",
       "    <tr>\n",
       "      <th>450171</th>\n",
       "      <td>http://ecct-it.com/docmmmnn/aptgd/index.php</td>\n",
       "      <td>malicious</td>\n",
       "      <td>1</td>\n",
       "      <td>43</td>\n",
       "      <td>11</td>\n",
       "      <td>25</td>\n",
       "      <td>8</td>\n",
       "      <td>com</td>\n",
       "      <td>3</td>\n",
       "      <td>1</td>\n",
       "      <td>...</td>\n",
       "      <td>0</td>\n",
       "      <td>2</td>\n",
       "      <td>0</td>\n",
       "      <td>1</td>\n",
       "      <td>0</td>\n",
       "      <td>0</td>\n",
       "      <td>0</td>\n",
       "      <td>34</td>\n",
       "      <td>3</td>\n",
       "      <td>1</td>\n",
       "    </tr>\n",
       "    <tr>\n",
       "      <th>450172</th>\n",
       "      <td>http://faboleena.com/js/infortis/jquery/plugin...</td>\n",
       "      <td>malicious</td>\n",
       "      <td>1</td>\n",
       "      <td>159</td>\n",
       "      <td>13</td>\n",
       "      <td>139</td>\n",
       "      <td>2</td>\n",
       "      <td>com</td>\n",
       "      <td>3</td>\n",
       "      <td>0</td>\n",
       "      <td>...</td>\n",
       "      <td>0</td>\n",
       "      <td>2</td>\n",
       "      <td>1</td>\n",
       "      <td>1</td>\n",
       "      <td>0</td>\n",
       "      <td>0</td>\n",
       "      <td>21</td>\n",
       "      <td>118</td>\n",
       "      <td>12</td>\n",
       "      <td>1</td>\n",
       "    </tr>\n",
       "    <tr>\n",
       "      <th>450173</th>\n",
       "      <td>http://faboleena.com/js/infortis/jquery/plugin...</td>\n",
       "      <td>malicious</td>\n",
       "      <td>1</td>\n",
       "      <td>147</td>\n",
       "      <td>13</td>\n",
       "      <td>127</td>\n",
       "      <td>2</td>\n",
       "      <td>com</td>\n",
       "      <td>3</td>\n",
       "      <td>0</td>\n",
       "      <td>...</td>\n",
       "      <td>0</td>\n",
       "      <td>1</td>\n",
       "      <td>1</td>\n",
       "      <td>1</td>\n",
       "      <td>0</td>\n",
       "      <td>0</td>\n",
       "      <td>20</td>\n",
       "      <td>109</td>\n",
       "      <td>12</td>\n",
       "      <td>1</td>\n",
       "    </tr>\n",
       "    <tr>\n",
       "      <th>450174</th>\n",
       "      <td>http://atualizapj.com/</td>\n",
       "      <td>malicious</td>\n",
       "      <td>1</td>\n",
       "      <td>22</td>\n",
       "      <td>14</td>\n",
       "      <td>1</td>\n",
       "      <td>0</td>\n",
       "      <td>com</td>\n",
       "      <td>3</td>\n",
       "      <td>0</td>\n",
       "      <td>...</td>\n",
       "      <td>0</td>\n",
       "      <td>1</td>\n",
       "      <td>0</td>\n",
       "      <td>1</td>\n",
       "      <td>0</td>\n",
       "      <td>0</td>\n",
       "      <td>0</td>\n",
       "      <td>17</td>\n",
       "      <td>1</td>\n",
       "      <td>1</td>\n",
       "    </tr>\n",
       "    <tr>\n",
       "      <th>450175</th>\n",
       "      <td>http://writeassociate.com/test/Portal/inicio/I...</td>\n",
       "      <td>malicious</td>\n",
       "      <td>1</td>\n",
       "      <td>143</td>\n",
       "      <td>18</td>\n",
       "      <td>118</td>\n",
       "      <td>4</td>\n",
       "      <td>com</td>\n",
       "      <td>3</td>\n",
       "      <td>1</td>\n",
       "      <td>...</td>\n",
       "      <td>0</td>\n",
       "      <td>4</td>\n",
       "      <td>0</td>\n",
       "      <td>1</td>\n",
       "      <td>0</td>\n",
       "      <td>1</td>\n",
       "      <td>9</td>\n",
       "      <td>118</td>\n",
       "      <td>7</td>\n",
       "      <td>1</td>\n",
       "    </tr>\n",
       "  </tbody>\n",
       "</table>\n",
       "<p>450176 rows × 22 columns</p>\n",
       "</div>"
      ],
      "text/plain": [
       "                                                      url      label  result  \\\n",
       "0                                  https://www.google.com     benign       0   \n",
       "1                                 https://www.youtube.com     benign       0   \n",
       "2                                https://www.facebook.com     benign       0   \n",
       "3                                   https://www.baidu.com     benign       0   \n",
       "4                               https://www.wikipedia.org     benign       0   \n",
       "...                                                   ...        ...     ...   \n",
       "450171        http://ecct-it.com/docmmmnn/aptgd/index.php  malicious       1   \n",
       "450172  http://faboleena.com/js/infortis/jquery/plugin...  malicious       1   \n",
       "450173  http://faboleena.com/js/infortis/jquery/plugin...  malicious       1   \n",
       "450174                             http://atualizapj.com/  malicious       1   \n",
       "450175  http://writeassociate.com/test/Portal/inicio/I...  malicious       1   \n",
       "\n",
       "        url_length  hostname_length  path_length  fd_length  tld  tld_length  \\\n",
       "0               22               14            0          0  com           3   \n",
       "1               23               15            0          0  com           3   \n",
       "2               24               16            0          0  com           3   \n",
       "3               21               13            0          0  com           3   \n",
       "4               25               17            0          0  org           3   \n",
       "...            ...              ...          ...        ...  ...         ...   \n",
       "450171          43               11           25          8  com           3   \n",
       "450172         159               13          139          2  com           3   \n",
       "450173         147               13          127          2  com           3   \n",
       "450174          22               14            1          0  com           3   \n",
       "450175         143               18          118          4  com           3   \n",
       "\n",
       "        count-  ...  count%  count.  count=  count-http  count-https  \\\n",
       "0            0  ...       0       2       0           1            1   \n",
       "1            0  ...       0       2       0           1            1   \n",
       "2            0  ...       0       2       0           1            1   \n",
       "3            0  ...       0       2       0           1            1   \n",
       "4            0  ...       0       2       0           1            1   \n",
       "...        ...  ...     ...     ...     ...         ...          ...   \n",
       "450171       1  ...       0       2       0           1            0   \n",
       "450172       0  ...       0       2       1           1            0   \n",
       "450173       0  ...       0       1       1           1            0   \n",
       "450174       0  ...       0       1       0           1            0   \n",
       "450175       1  ...       0       4       0           1            0   \n",
       "\n",
       "        count-www  count-digits  count-letters  count_dir  use_of_ip  \n",
       "0               1             0             17          0          1  \n",
       "1               1             0             18          0          1  \n",
       "2               1             0             19          0          1  \n",
       "3               1             0             16          0          1  \n",
       "4               1             0             20          0          1  \n",
       "...           ...           ...            ...        ...        ...  \n",
       "450171          0             0             34          3          1  \n",
       "450172          0            21            118         12          1  \n",
       "450173          0            20            109         12          1  \n",
       "450174          0             0             17          1          1  \n",
       "450175          1             9            118          7          1  \n",
       "\n",
       "[450176 rows x 22 columns]"
      ]
     },
     "execution_count": 35,
     "metadata": {},
     "output_type": "execute_result"
    }
   ],
   "source": [
    "url_data"
   ]
  },
  {
   "cell_type": "code",
   "execution_count": 36,
   "id": "8ba92262",
   "metadata": {},
   "outputs": [
    {
     "data": {
      "text/plain": [
       "Text(0, 0.5, 'Number of urls')"
      ]
     },
     "execution_count": 36,
     "metadata": {},
     "output_type": "execute_result"
    },
    {
     "data": {
      "image/png": "[encoded data removed]",
      "text/plain": [
       "<Figure size 1080x360 with 1 Axes>"
      ]
     },
     "metadata": {
      "needs_background": "light"
     },
     "output_type": "display_data"
    }
   ],
   "source": [
    "# data visualization\n",
    "\n",
    "plt.figure(figsize = (15,5))\n",
    "sns.countplot(x = \"label\" , data = url_data)\n",
    "plt.title(\"Count of urls\" , fontsize = 20)\n",
    "plt.xlabel(\"Type of urls\" , fontsize = 18)\n",
    "plt.ylabel(\"Number of urls\" , fontsize = 18)"
   ]
  },
  {
   "cell_type": "code",
   "execution_count": 37,
   "id": "8944544c",
   "metadata": {},
   "outputs": [
    {
     "name": "stdout",
     "output_type": "stream",
     "text": [
      "Percent of Malicious URLs : 23.20 %\n",
      "Percent of Benign URLs : 76.80 %\n"
     ]
    }
   ],
   "source": [
    "# percentage of malicious and benign URLs\n",
    "\n",
    "print(\"Percent of Malicious URLs : {:.2f} %\".format(len(url_data[url_data[\"label\"] == \"malicious\"])\n",
    "                                                    / len(url_data[\"label\"]) * 100))\n",
    "\n",
    "print(\"Percent of Benign URLs : {:.2f} %\".format(len(url_data[url_data[\"label\"] == \"benign\"])\n",
    "                                                    / len(url_data[\"label\"]) * 100))"
   ]
  },
  {
   "cell_type": "code",
   "execution_count": 38,
   "id": "ded230f0",
   "metadata": {},
   "outputs": [
    {
     "data": {
      "text/plain": [
       "Text(0, 0.5, 'Number of URLs')"
      ]
     },
     "execution_count": 38,
     "metadata": {},
     "output_type": "execute_result"
    },
    {
     "data": {
      "image/png": "[encoded data removed]",
      "text/plain": [
       "<Figure size 1080x360 with 1 Axes>"
      ]
     },
     "metadata": {
      "needs_background": "light"
     },
     "output_type": "display_data"
    }
   ],
   "source": [
    "plt.figure(figsize = (15,5))\n",
    "plt.title(\"Number of directories in URL\" , fontsize = 20)\n",
    "sns.countplot(x = \"count_dir\" , data = url_data , hue = \"label\")\n",
    "plt.xlabel(\"Number of directories\" , fontsize = 18)\n",
    "plt.ylabel(\"Number of URLs\" , fontsize = 18)"
   ]
  },
  {
   "cell_type": "code",
   "execution_count": 39,
   "id": "d086f4d9",
   "metadata": {},
   "outputs": [
    {
     "data": {
      "text/plain": [
       "Text(0, 0.5, 'Number of URLs')"
      ]
     },
     "execution_count": 39,
     "metadata": {},
     "output_type": "execute_result"
    },
    {
     "data": {
      "image/png": "[encoded data removed]",
      "text/plain": [
       "<Figure size 1080x360 with 1 Axes>"
      ]
     },
     "metadata": {
      "needs_background": "light"
     },
     "output_type": "display_data"
    }
   ],
   "source": [
    "plt.figure(figsize = (15,5))\n",
    "plt.title(\"Use of IP in URL\" , fontsize = 20)\n",
    "plt.xlabel(\"Use of IP\" , fontsize = 18)\n",
    "sns.countplot(url_data[\"use_of_ip\"])\n",
    "plt.ylabel(\"Number of URLs\" , fontsize = 18)"
   ]
  },
  {
   "cell_type": "code",
   "execution_count": 40,
   "id": "c9aa5781",
   "metadata": {},
   "outputs": [
    {
     "data": {
      "text/plain": [
       "Text(0, 0.5, 'Number of URLs')"
      ]
     },
     "execution_count": 40,
     "metadata": {},
     "output_type": "execute_result"
    },
    {
     "data": {
      "image/png": "[encoded data removed]",
      "text/plain": [
       "<Figure size 1080x360 with 1 Axes>"
      ]
     },
     "metadata": {
      "needs_background": "light"
     },
     "output_type": "display_data"
    }
   ],
   "source": [
    "plt.figure(figsize = (15,5))\n",
    "plt.title(\"Use of IP in URL\" , fontsize = 20)\n",
    "sns.countplot(url_data[\"use_of_ip\"] , data = url_data , hue = \"label\")\n",
    "plt.xlabel(\"Use of IP\" , fontsize = 18)\n",
    "plt.ylabel(\"Number of URLs\" , fontsize = 18)"
   ]
  },
  {
   "cell_type": "markdown",
   "id": "4bed37ec",
   "metadata": {},
   "source": [
    "## Building models :-"
   ]
  },
  {
   "cell_type": "markdown",
   "id": "46f5b1e0",
   "metadata": {},
   "source": [
    "#### I will be using 3 models for my classification :\n",
    "     1) Decision Tree\n",
    "     2) Random Forest\n",
    "     3) Logistic Regession"
   ]
  },
  {
   "cell_type": "code",
   "execution_count": 41,
   "id": "c2d3eb0e",
   "metadata": {},
   "outputs": [],
   "source": [
    "from sklearn.tree import DecisionTreeClassifier\n",
    "from sklearn.ensemble import RandomForestClassifier\n",
    "from sklearn.linear_model import LogisticRegression\n",
    "from sklearn.model_selection import train_test_split\n",
    "from sklearn.metrics import confusion_matrix , classification_report , accuracy_score"
   ]
  },
  {
   "cell_type": "code",
   "execution_count": 42,
   "id": "7d49ba3c",
   "metadata": {},
   "outputs": [],
   "source": [
    "# Predictor variables\n",
    "\n",
    "x = url_data[[\"hostname_length\" , \"path_length\" , \"fd_length\" , \"tld_length\" , \"count-\" , \"count@\" ,\n",
    "              \"count?\" , \"count%\" , \"count.\" , \"count=\" , \"count-http\" , \"count-https\" ,\n",
    "              \"count-www\" , \"count-digits\" , \"count-letters\" , \"count_dir\" , \"use_of_ip\"]]\n",
    "\n",
    "# Target variable\n",
    "\n",
    "y = url_data[\"result\"]"
   ]
  },
  {
   "cell_type": "code",
   "execution_count": 43,
   "id": "c90b573f",
   "metadata": {},
   "outputs": [
    {
     "data": {
      "text/plain": [
       "(450176, 17)"
      ]
     },
     "execution_count": 43,
     "metadata": {},
     "output_type": "execute_result"
    }
   ],
   "source": [
    "x.shape"
   ]
  },
  {
   "cell_type": "code",
   "execution_count": 44,
   "id": "754cf4bb",
   "metadata": {},
   "outputs": [
    {
     "data": {
      "text/plain": [
       "(450176,)"
      ]
     },
     "execution_count": 44,
     "metadata": {},
     "output_type": "execute_result"
    }
   ],
   "source": [
    "y.shape"
   ]
  },
  {
   "cell_type": "markdown",
   "id": "49898251",
   "metadata": {},
   "source": [
    "## Splitting the data into training and testing :"
   ]
  },
  {
   "cell_type": "code",
   "execution_count": 45,
   "id": "4f221e10",
   "metadata": {},
   "outputs": [],
   "source": [
    "x_train , x_test , y_train , y_test = train_test_split(x , y , train_size = 0.3 , random_state = 42)"
   ]
  },
  {
   "cell_type": "markdown",
   "id": "265f3e4c",
   "metadata": {},
   "source": [
    "## 1) Decision Tree"
   ]
  },
  {
   "cell_type": "code",
   "execution_count": 46,
   "id": "0b682be6",
   "metadata": {},
   "outputs": [
    {
     "data": {
      "text/plain": [
       "0.9953986367271297"
      ]
     },
     "execution_count": 46,
     "metadata": {},
     "output_type": "execute_result"
    }
   ],
   "source": [
    "dt_model = DecisionTreeClassifier()\n",
    "dt_model.fit(x_train , y_train)\n",
    "\n",
    "dt_predictions = dt_model.predict(x_test)\n",
    "\n",
    "accuracy_score(y_test , dt_predictions)"
   ]
  },
  {
   "cell_type": "code",
   "execution_count": 47,
   "id": "81340f64",
   "metadata": {},
   "outputs": [
    {
     "name": "stdout",
     "output_type": "stream",
     "text": [
      "[[241202    750]\n",
      " [   700  72472]]\n"
     ]
    }
   ],
   "source": [
    "print(confusion_matrix(y_test , dt_predictions))"
   ]
  },
  {
   "cell_type": "markdown",
   "id": "fea3a2d6",
   "metadata": {},
   "source": [
    "## 2) Random Forest"
   ]
  },
  {
   "cell_type": "code",
   "execution_count": 48,
   "id": "1a726289",
   "metadata": {},
   "outputs": [
    {
     "data": {
      "text/plain": [
       "0.9972455287442403"
      ]
     },
     "execution_count": 48,
     "metadata": {},
     "output_type": "execute_result"
    }
   ],
   "source": [
    "rfc = RandomForestClassifier()\n",
    "rfc.fit(x_train , y_train)\n",
    "\n",
    "rfc_predictions = rfc.predict(x_test)\n",
    "\n",
    "accuracy_score(y_test , rfc_predictions)"
   ]
  },
  {
   "cell_type": "code",
   "execution_count": 49,
   "id": "a9a6069f",
   "metadata": {},
   "outputs": [
    {
     "name": "stdout",
     "output_type": "stream",
     "text": [
      "[[241662    290]\n",
      " [   578  72594]]\n"
     ]
    }
   ],
   "source": [
    "print(confusion_matrix(y_test , rfc_predictions))"
   ]
  },
  {
   "cell_type": "markdown",
   "id": "53ca8986",
   "metadata": {},
   "source": [
    "## 3) Logistic Regression"
   ]
  },
  {
   "cell_type": "code",
   "execution_count": 50,
   "id": "13a0c4dc",
   "metadata": {},
   "outputs": [
    {
     "data": {
      "text/plain": [
       "0.9957730924969218"
      ]
     },
     "execution_count": 50,
     "metadata": {},
     "output_type": "execute_result"
    }
   ],
   "source": [
    "log_model = LogisticRegression()\n",
    "log_model.fit(x_train , y_train)\n",
    "\n",
    "log_predictions = log_model.predict(x_test)\n",
    "\n",
    "accuracy_score(y_test , log_predictions)"
   ]
  },
  {
   "cell_type": "code",
   "execution_count": 51,
   "id": "3f0301db",
   "metadata": {},
   "outputs": [
    {
     "name": "stdout",
     "output_type": "stream",
     "text": [
      "[[241388    564]\n",
      " [   768  72404]]\n"
     ]
    }
   ],
   "source": [
    "print(confusion_matrix(y_test , log_predictions))"
   ]
  },
  {
   "cell_type": "code",
   "execution_count": 52,
   "id": "95aae92c",
   "metadata": {},
   "outputs": [],
   "source": [
    "def fun():\n",
    "    lis1=[]\n",
    "    a1=url.get()\n",
    "    lis1.append(a1)\n",
    "    lis1.append(len(urlparse(a1).netloc))\n",
    "    lis1.append(len(a1))\n",
    "    lis1.append(fd_length(a1))\n",
    "    tld = get_tld(a1, fail_silently = True)\n",
    "    lis1.append(tld_length(a1))\n",
    "    lis1.append(a1.count(\"-\"))\n",
    "    lis1.append(a1.count(\"@\"))\n",
    "    lis1.append(a1.count(\"?\"))\n",
    "    lis1.append(a1.count(\"%\"))\n",
    "    lis1.append(a1.count(\".\"))\n",
    "    lis1.append(a1.count(\"=\"))\n",
    "    lis1.append(a1.count(\"http\"))\n",
    "    lis1.append(a1.count(\"https\"))\n",
    "    lis1.append(a1.count(\"www\"))\n",
    "    lis1.append(digit_count(a1))\n",
    "    lis1.append(letter_count(a1))\n",
    "    lis1.append(no_of_dir(a1))\n",
    "    lis1.append(having_ip_address(a1))\n",
    " \n",
    "    ind=[\"hostname_length\" , \"path_length\" , \"fd_length\" , \"tld_length\" , \"count-\" , \"count@\" ,\n",
    "              \"count?\" , \"count%\" , \"count.\" , \"count=\" , \"count-http\" , \"count-https\" ,\n",
    "              \"count-www\" , \"count-digits\" , \"count-letters\" , \"count_dir\" , \"use_of_ip\"]\n",
    "    test_x1=pd.DataFrame(lis1[1:],index=ind)\n",
    " \n",
    "    prediction = []\n",
    "    prediction.append(dt_model.predict(test_x1.T))\n",
    "    prediction.append(rfc.predict(test_x1.T))\n",
    "    prediction.append(log_model.predict(test_x1.T))\n",
    "\n",
    "    n = len(prediction)\n",
    "    for i in range(n):\n",
    "        if i == 0:\n",
    "            if prediction[i]== 0 :\n",
    "                cv.create_text(800,550,text='BENIGN using Decision Tree',font= ('arial', 18, 'bold'),fill='blue',anchor='nw',tags=('label'))\n",
    "            else:\n",
    "                cv.create_text(800,550,text='MALICIOUS using Decision Tree',font= ('arial', 18, 'bold'),fill='green',anchor='nw',tags=('label'))\n",
    "        elif i == 1:\n",
    "            if prediction[i]== 0:\n",
    "                cv.create_text(800,570,text='BENIGN using Random Forest',font= ('arial', 18, 'bold'),fill='blue',anchor='nw',tags=('label'))\n",
    "            else:\n",
    "                cv.create_text(800,570,text='MALICIOUS using Random Forest',font= ('arial', 18, 'bold'),fill='green',anchor='nw',tags=('label'))\n",
    "        else:\n",
    "            if prediction[i]== 0:\n",
    "                cv.create_text(800,590,text='BENIGN using Logistic Regression',font= ('arial', 18, 'bold'),fill='blue',anchor='nw',tags=('label'))\n",
    "            else:\n",
    "                cv.create_text(800,590,text='MALICIOUS using Logistic Regression',font= ('arial', 18, 'bold'),fill='green',anchor='nw',tags=('label'))\n",
    "\n",
    "def reset():\n",
    "    url.set(\" \")\n",
    "    cv.delete('label')\n"
   ]
  },
  {
   "cell_type": "code",
   "execution_count": 53,
   "id": "519b0c93",
   "metadata": {},
   "outputs": [],
   "source": [
    "from tkinter import*\n",
    "import tkinter as tk\n",
    "root = tk.Tk()\n",
    "root.title('FRAUD LINKS PREDICTION')\n",
    "root.geometry(\"1260x660\")\n",
    "root.resizable(0, 0)\n",
    "menu1=Menu(root)\n",
    "root.config(menu=menu1)\n",
    "fileMenu=Menu(menu1) \n",
    "menu1.add_cascade(label=\"FILE\",menu=fileMenu)\n",
    "fileMenu.add_command(label=\"Reset\",command=reset) \n",
    "fileMenu.add_command(label=\"Exit\",command=root.destroy)\n",
    "cv = tk.Canvas(width=600, height=600)\n",
    "cv.pack(side='top', fill='both', expand='yes')\n",
    "#cv.create_image(0,0, image=bg_image, anchor='nw')\n",
    "cv.create_text(450,120, text=\"url\",font=(\"Helvetica\", 18,'bold'),fill=\"black\", anchor='nw')\n",
    "\n",
    "url = StringVar()\n",
    "\n",
    "entry0=tk.Entry(cv,textvariable = url, font = ('arial', 14, 'bold'), bd = 8, insertwidth = 4,\n",
    "justify = 'left').place(x=500,y=120,anchor='nw' )\n",
    "\n",
    "btn=tk.Button(cv,text=\"SHOW RESULT\",font=('arial',18,'bold'),command=fun)\n",
    "btn.place(x=700,y=300,anchor='se')\n",
    "btn=tk.Button(cv,text=\"RESET\",font=('arial',18,'bold'),command=reset)\n",
    "btn.place(x=650,y=400,anchor='se')\n",
    "root.mainloop()"
   ]
  },
  {
   "cell_type": "code",
   "execution_count": null,
   "id": "f04b80c4",
   "metadata": {},
   "outputs": [],
   "source": []
  }
 ],
 "metadata": {
  "kernelspec": {
   "display_name": "Python 3 (ipykernel)",
   "language": "python",
   "name": "python3"
  },
  "language_info": {
   "codemirror_mode": {
    "name": "ipython",
    "version": 3
   },
   "file_extension": ".py",
   "mimetype": "text/x-python",
   "name": "python",
   "nbconvert_exporter": "python",
   "pygments_lexer": "ipython3",
   "version": "3.9.12"
  }
 },
 "nbformat": 4,
 "nbformat_minor": 5
}
